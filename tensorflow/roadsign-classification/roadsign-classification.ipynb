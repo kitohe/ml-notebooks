{
 "cells": [
  {
   "cell_type": "code",
   "execution_count": 1,
   "metadata": {},
   "outputs": [],
   "source": [
    "from keras.models import Sequential, load_model\n",
    "from keras.layers import Conv2D, MaxPooling2D, Flatten, Dense, Dropout\n",
    "from keras.preprocessing.image import load_img, img_to_array, ImageDataGenerator  \n",
    "from time import time\n",
    "import numpy as np\n",
    "import math"
   ]
  },
  {
   "cell_type": "code",
   "execution_count": 3,
   "metadata": {},
   "outputs": [],
   "source": [
    "image_size = 76"
   ]
  },
  {
   "cell_type": "code",
   "execution_count": 6,
   "metadata": {},
   "outputs": [
    {
     "name": "stdout",
     "output_type": "stream",
     "text": [
      "Found 4575 images belonging to 62 classes.\n",
      "Found 2520 images belonging to 62 classes.\n",
      "Model: \"sequential_3\"\n",
      "_________________________________________________________________\n",
      "Layer (type)                 Output Shape              Param #   \n",
      "=================================================================\n",
      "conv2d_6 (Conv2D)            (None, 74, 74, 32)        896       \n",
      "_________________________________________________________________\n",
      "max_pooling2d_6 (MaxPooling2 (None, 37, 37, 32)        0         \n",
      "_________________________________________________________________\n",
      "conv2d_7 (Conv2D)            (None, 35, 35, 32)        9248      \n",
      "_________________________________________________________________\n",
      "max_pooling2d_7 (MaxPooling2 (None, 17, 17, 32)        0         \n",
      "_________________________________________________________________\n",
      "conv2d_8 (Conv2D)            (None, 15, 15, 64)        18496     \n",
      "_________________________________________________________________\n",
      "max_pooling2d_8 (MaxPooling2 (None, 7, 7, 64)          0         \n",
      "_________________________________________________________________\n",
      "flatten_2 (Flatten)          (None, 3136)              0         \n",
      "_________________________________________________________________\n",
      "dense_2 (Dense)              (None, 62)                194494    \n",
      "=================================================================\n",
      "Total params: 223,134\n",
      "Trainable params: 223,134\n",
      "Non-trainable params: 0\n",
      "_________________________________________________________________\n",
      "None\n",
      "WARNING:tensorflow:From <ipython-input-6-73f85f40fb16>:44: Model.fit_generator (from tensorflow.python.keras.engine.training) is deprecated and will be removed in a future version.\n",
      "Instructions for updating:\n",
      "Please use Model.fit, which supports generators.\n",
      "Epoch 1/5\n",
      "143/143 [==============================] - 21s 149ms/step - loss: 1.9564 - acc: 0.5316 - val_loss: 0.8282 - val_acc: 0.7901\n",
      "Epoch 2/5\n",
      "143/143 [==============================] - 21s 144ms/step - loss: 0.5549 - acc: 0.8562 - val_loss: 0.5732 - val_acc: 0.8333\n",
      "Epoch 3/5\n",
      "143/143 [==============================] - 20s 142ms/step - loss: 0.3350 - acc: 0.9123 - val_loss: 0.3240 - val_acc: 0.9123\n",
      "Epoch 4/5\n",
      "143/143 [==============================] - 21s 145ms/step - loss: 0.2099 - acc: 0.9414 - val_loss: 0.3097 - val_acc: 0.9238\n",
      "Epoch 5/5\n",
      "143/143 [==============================] - 21s 147ms/step - loss: 0.1411 - acc: 0.9600 - val_loss: 0.2599 - val_acc: 0.9476\n"
     ]
    }
   ],
   "source": [
    "classifier = Sequential()\n",
    "        \n",
    "classifier.add(Conv2D(32, (3, 3), input_shape=(image_size, image_size, 3), activation='relu'))\n",
    "classifier.add(MaxPooling2D(pool_size=(2,2)))\n",
    "   \n",
    "classifier.add(Conv2D(32, (3,3), activation='relu'))\n",
    "classifier.add(MaxPooling2D(pool_size=(2,2)))\n",
    "    \n",
    "classifier.add(Conv2D(64, (3,3), activation='relu'))\n",
    "classifier.add(MaxPooling2D(pool_size=(2,2)))\n",
    "    \n",
    "classifier.add(Flatten())\n",
    "   \n",
    "classifier.add(Dense(activation='softmax', units=62))\n",
    "    \n",
    "classifier.compile(optimizer='adam', loss='categorical_crossentropy', metrics=['acc'])\n",
    "       \n",
    "train_datagen = ImageDataGenerator(\n",
    "                            rescale=1./255,\n",
    "                            shear_range=0.2,\n",
    "                            zoom_range=0.2,\n",
    "                            horizontal_flip=True)\n",
    "test_datagen = ImageDataGenerator(rescale=1./255)\n",
    "  \n",
    "X_train = train_datagen.flow_from_directory(\n",
    "                           'dataset/Training',\n",
    "                            target_size=(image_size,image_size),\n",
    "                            batch_size=32,\n",
    "                            class_mode='categorical')\n",
    "         \n",
    "y_train = test_datagen.flow_from_directory(\n",
    "                            'dataset/Testing',\n",
    "                             target_size=(image_size,image_size),\n",
    "                             batch_size=32,\n",
    "                             class_mode='categorical')\n",
    "\n",
    "print(classifier.summary())\n",
    "\n",
    "classifier.fit_generator(\n",
    "            X_train,\n",
    "            steps_per_epoch=math.ceil(4575/32),\n",
    "            epochs=5,\n",
    "            validation_data=y_train,\n",
    "            validation_steps=math.ceil(2520/32))\n",
    "\n",
    "classifier.save('model.h5')"
   ]
  },
  {
   "cell_type": "code",
   "execution_count": 13,
   "metadata": {},
   "outputs": [],
   "source": [
    "def predict_manually(image_path):\n",
    "    img = load_img(image_path, target_size=(image_size,image_size))\n",
    "    img = img_to_array(img)\n",
    "    img = img / 255.0\n",
    "    img = np.expand_dims(img, axis=0)    \n",
    "    class_prediction = np.argmax(classifier.predict(img), axis=-1)\n",
    "    return class_prediction"
   ]
  },
  {
   "cell_type": "code",
   "execution_count": 14,
   "metadata": {},
   "outputs": [
    {
     "name": "stdout",
     "output_type": "stream",
     "text": [
      "[22]\n",
      "[21]\n"
     ]
    }
   ],
   "source": [
    "# Classify your images here:\n",
    "print(predict_manually('dataset/ManTesting/noway.jpg'))\n",
    "print(predict_manually('dataset/ManTesting/stop.jpg'))"
   ]
  }
 ],
 "metadata": {
  "kernelspec": {
   "display_name": "Python 3",
   "language": "python",
   "name": "python3"
  },
  "language_info": {
   "codemirror_mode": {
    "name": "ipython",
    "version": 3
   },
   "file_extension": ".py",
   "mimetype": "text/x-python",
   "name": "python",
   "nbconvert_exporter": "python",
   "pygments_lexer": "ipython3",
   "version": "3.7.8"
  }
 },
 "nbformat": 4,
 "nbformat_minor": 4
}
